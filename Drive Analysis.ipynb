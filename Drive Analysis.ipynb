{
 "cells": [
  {
   "cell_type": "markdown",
   "metadata": {},
   "source": [
    "In this code\n",
    "\n",
    "1. Extract eye gaze (X,Y) from video using computer vision.\n",
    "2. Combine gaze data with existing simulator data for AI/ML analysis."
   ]
  },
  {
   "cell_type": "code",
   "execution_count": 27,
   "metadata": {},
   "outputs": [],
   "source": [
    "import pandas as pd\n",
    "import matplotlib.pyplot as plt\n",
    "import numpy as np"
   ]
  },
  {
   "cell_type": "code",
   "execution_count": null,
   "metadata": {},
   "outputs": [],
   "source": [
    "\n",
    "def load_data(filename):\n",
    " try:\n",
    "   data = pd.read_csv(filename)\n",
    "   return data\n",
    " except (FileNotFoundError, pd.errors.ParserError) as e:\n",
    "   print(\"Error loading data:\", e)\n",
    "   return None\n",
    "\n",
    "data = load_data(\"Experimenter_9110002_53.dat\")\n",
    "\n",
    "if data is None:\n",
    " exit()"
   ]
  },
  {
   "cell_type": "code",
   "execution_count": null,
   "metadata": {},
   "outputs": [],
   "source": [
    "def get_time_diff(time_delta):  #Fxn to calculate time difference in seconds\n",
    " return time_delta / (10**7)\n",
    "\n",
    "if data['LonAccel'].isnull().sum() > 0:\n",
    " print(\"Warning: 'LonAccel' column has missing values.\")\n",
    "if data['Velocity'].isnull().sum() > 0:\n",
    " print(\"Warning: 'Velocity' column has missing values.\")\n",
    "\n",
    "average_speed = data['Velocity'].mean()\n",
    "speed_std = data['Velocity'].std()\n",
    "\n",
    "print(\"Average Speed:\", average_speed, \"mph\")\n",
    "print(\"Standard Deviation of Speed:\", speed_std, \"mph\")\n",
    "\n",
    "harsh_acceleration = data[data['LonAccel'] > 3]\n",
    "harsh_braking = data[data['LonAccel'] < -3]\n",
    "sharp_turns = data[data['Steer'].abs() > 45]\n",
    "\n",
    "print(\"Count of Harsh Acceleration Events:\", len(harsh_acceleration))\n",
    "print(\"Count of Harsh Braking Events:\", len(harsh_braking))\n",
    "print(\"Count of Sharp Turns:\", len(sharp_turns))\n",
    "\n",
    "lane_departures = data[data['LaneOffset'] > 0.5]\n",
    "duration_offlane = lane_departures.groupby('FRAME_NUM')['DatTime'].diff().apply(get_time_diff).sum()\n",
    "\n",
    "print(\"Total Duration Off Lane:\", duration_offlane, \"seconds\")\n",
    "\n",
    "data['Relative_Speed'] = data['Velocity'] - data['LeadVehVel'].fillna(0)\n",
    "time_to_collision = data[data['Relative_Speed'] > 0]\n",
    "time_to_collision['TTC'] = data['HeadwayDistance'] / data['Relative_Speed']\n",
    "\n",
    "print(\"Minimum TTC:\", time_to_collision['TTC'].min(), \"seconds\")\n",
    "print(\"Average TTC:\", time_to_collision['TTC'].mean(), \"seconds\")"
   ]
  },
  {
   "cell_type": "code",
   "execution_count": null,
   "metadata": {},
   "outputs": [],
   "source": [
    "def plot_driver_input_heatmap(data):  #Visual Metrics\n",
    " time_stamps = data['DatTime'].apply(get_time_diff)\n",
    " steering = data['Steer']\n",
    " acceleration = data['LonAccel']\n",
    " braking = data['LonAccel'] * -1\n",
    "\n",
    " fig, ax = plt.subplots()\n",
    " ax.stackplot(time_stamps, [steering, acceleration, braking], labels=['Steering', 'Acceleration', 'Braking'])\n",
    " plt.xlabel('Time (s)')\n",
    " plt.ylabel('Input Intensity')\n",
    " plt.legend(title='Driver Input')\n",
    " plt.grid(True)\n",
    "plt.show()"
   ]
  }
 ],
 "metadata": {
  "kernelspec": {
   "display_name": "Python 3",
   "language": "python",
   "name": "python3"
  },
  "language_info": {
   "codemirror_mode": {
    "name": "ipython",
    "version": 3
   },
   "file_extension": ".py",
   "mimetype": "text/x-python",
   "name": "python",
   "nbconvert_exporter": "python",
   "pygments_lexer": "ipython3",
   "version": "3.10.6"
  }
 },
 "nbformat": 4,
 "nbformat_minor": 2
}
